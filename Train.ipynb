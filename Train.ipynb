{
 "cells": [
  {
   "cell_type": "code",
   "execution_count": 1,
   "metadata": {},
   "outputs": [
    {
     "ename": "SyntaxError",
     "evalue": "invalid syntax (<ipython-input-1-ccc881df8186>, line 2)",
     "output_type": "error",
     "traceback": [
      "\u001b[1;36m  File \u001b[1;32m\"<ipython-input-1-ccc881df8186>\"\u001b[1;36m, line \u001b[1;32m2\u001b[0m\n\u001b[1;33m    1. 整個概念是資料庫裡只會有每個縣市近10小時的PM2.5值，下一個的PM25來後，update此資料表，並且刪除原本第一個小時的PM25\u001b[0m\n\u001b[1;37m                               ^\u001b[0m\n\u001b[1;31mSyntaxError\u001b[0m\u001b[1;31m:\u001b[0m invalid syntax\n"
     ]
    }
   ],
   "source": [
    "# 讀取PM25\n",
    "1. 整個概念是資料庫裡只會有每個縣市近10小時的PM2.5值，下一個的PM25來後，update此資料表，並且刪除原本第一個小時的PM25\n",
    "2. 我們可以每九個小時的PM25預測第10小時的PM25，Train model的地方我會寫好"
   ]
  },
  {
   "cell_type": "code",
   "execution_count": 6,
   "metadata": {},
   "outputs": [],
   "source": [
    "import pandas as pd\n",
    "from datetime import datetime\n",
    "import xgboost as xgb\n",
    "\n",
    "\n",
    "# while true\n",
    "\n",
    "time = str(datetime.now().year) + str(datetime.now().month) + str(datetime.now().day) + str(datetime.now().hour)\n",
    "file = time+'PM25.csv'\n",
    "df = pd.read_csv(file)\n",
    "max_pm_per_county = df.groupby(['county'])['PM25'].max() # select max(pm25) from table_name group by county \n",
    "\n",
    "\n",
    "Nantou = []\n",
    "Chiayi_4= []\n",
    "Chiayi= []\n",
    "Keelung= []= []\n",
    "Yilan= []\n",
    "Pingtung= []\n",
    "Changhua= []\n",
    "xinbei= []\n",
    "Hsinchu_4= []\n",
    "Hsinchu= []\n",
    "Taoyuan= []\n",
    "Penghu= []\n",
    "Taichung= []\n",
    "Taipei= []\n",
    "Tainan= []\n",
    "Taitung= []\n",
    "Hualien= []\n",
    "Miaoli= []\n",
    "Lianjiang= []\n",
    "Kinmen= []\n",
    "Yunlin= []\n",
    "Kaohsiung= []\n",
    "\n",
    "Nantou.append(max_pm_per_county[0])\n",
    "Chiayi_4.append(max_pm_per_county[1])\n",
    "Chiayi.append(max_pm_per_county[2])\n",
    "Keelung.append(max_pm_per_county[3])\n",
    "Yilan.append(max_pm_per_county[4])\n",
    "Pingtung.append(max_pm_per_county[5])\n",
    "Changhua.append(max_pm_per_county[6])\n",
    "xinbei.append(max_pm_per_county[7])\n",
    "Hsinchu_4.append(max_pm_per_county[8])\n",
    "Hsinchu.append(max_pm_per_county[9])\n",
    "Taoyuan.append(max_pm_per_county[10])\n",
    "Penghu.append(max_pm_per_county[11])\n",
    "Taichung.append(max_pm_per_county[12])\n",
    "Taipei.append(max_pm_per_county[13])\n",
    "Tainan.append(max_pm_per_county[14])\n",
    "Taitung.append(max_pm_per_county[15])\n",
    "Hualien.append(max_pm_per_county[16])\n",
    "Miaoli.append(max_pm_per_county[17])\n",
    "Lianjiang.append(max_pm_per_county[18])\n",
    "Kinmen.append(max_pm_per_county[19])\n",
    "Yunlin.append(max_pm_per_county[20])\n",
    "Kaohsiung.append(max_pm_per_county[21])"
   ]
  },
  {
   "cell_type": "code",
   "execution_count": 52,
   "metadata": {},
   "outputs": [],
   "source": [
    "county_name = ['南投縣',\n",
    " '嘉義市',\n",
    " '嘉義縣',\n",
    " '基隆市',\n",
    " '宜蘭縣',\n",
    " '屏東縣',\n",
    " '彰化縣',\n",
    " '新北市',\n",
    " '新竹市',\n",
    " '新竹縣',\n",
    " '桃園市',\n",
    " '澎湖縣',\n",
    " '臺中市',\n",
    " '臺北市',\n",
    " '臺南市',\n",
    " '臺東縣',\n",
    " '花蓮縣',\n",
    " '苗栗縣',\n",
    " '連江縣',\n",
    " '金門縣',\n",
    " '雲林縣',\n",
    " '高雄市']"
   ]
  },
  {
   "cell_type": "code",
   "execution_count": 86,
   "metadata": {},
   "outputs": [],
   "source": [
    "import xgboost as xgb"
   ]
  },
  {
   "cell_type": "code",
   "execution_count": 94,
   "metadata": {},
   "outputs": [],
   "source": [
    "x = [[23,15,17,24,45,56,66,53,51,43,57,59]]\n",
    "y = [[55]]"
   ]
  },
  {
   "cell_type": "code",
   "execution_count": 95,
   "metadata": {},
   "outputs": [],
   "source": [
    "import numpy as np\n",
    "train_x = np.array(x)\n",
    "y = np.array(y)"
   ]
  },
  {
   "cell_type": "code",
   "execution_count": 96,
   "metadata": {},
   "outputs": [],
   "source": [
    "from sklearn.linear_model import LinearRegression\n",
    "reg = LinearRegression().fit(x, y)"
   ]
  },
  {
   "cell_type": "code",
   "execution_count": 97,
   "metadata": {},
   "outputs": [],
   "source": [
    "test_x = [[17,24,45,56,66,53,51,43,57,59,45,33]]\n",
    "test_x = np.array(test_x)"
   ]
  },
  {
   "cell_type": "code",
   "execution_count": 98,
   "metadata": {},
   "outputs": [
    {
     "data": {
      "text/plain": [
       "array([[55.]])"
      ]
     },
     "execution_count": 98,
     "metadata": {},
     "output_type": "execute_result"
    }
   ],
   "source": [
    "reg.predict(test_x)"
   ]
  },
  {
   "cell_type": "code",
   "execution_count": null,
   "metadata": {},
   "outputs": [],
   "source": []
  }
 ],
 "metadata": {
  "kernelspec": {
   "display_name": "Python 3",
   "language": "python",
   "name": "python3"
  },
  "language_info": {
   "codemirror_mode": {
    "name": "ipython",
    "version": 3
   },
   "file_extension": ".py",
   "mimetype": "text/x-python",
   "name": "python",
   "nbconvert_exporter": "python",
   "pygments_lexer": "ipython3",
   "version": "3.7.0"
  }
 },
 "nbformat": 4,
 "nbformat_minor": 2
}
